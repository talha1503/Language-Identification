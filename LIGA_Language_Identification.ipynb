{
 "cells": [
  {
   "cell_type": "code",
   "execution_count": 26,
   "metadata": {
    "executionInfo": {
     "elapsed": 405,
     "status": "ok",
     "timestamp": 1624874146388,
     "user": {
      "displayName": "TALHA CHAFEKAR",
      "photoUrl": "https://lh3.googleusercontent.com/a-/AOh14GgJ4JowjYk8gpny71NUDTcSh3jZ-kEfsqr9PExPgA=s64",
      "userId": "11285277856393831417"
     },
     "user_tz": -330
    },
    "id": "wVEXimcMDZrG"
   },
   "outputs": [],
   "source": [
    "import numpy as np\n",
    "import pandas as pd\n",
    "import os\n",
    "import sklearn\n",
    "from csv import DictWriter\n",
    "from sklearn.metrics import classification_report,confusion_matrix\n",
    "import seaborn as sns\n",
    "import matplotlib.pyplot as plt"
   ]
  },
  {
   "cell_type": "code",
   "execution_count": 2,
   "metadata": {
    "executionInfo": {
     "elapsed": 8,
     "status": "ok",
     "timestamp": 1624869850231,
     "user": {
      "displayName": "TALHA CHAFEKAR",
      "photoUrl": "https://lh3.googleusercontent.com/a-/AOh14GgJ4JowjYk8gpny71NUDTcSh3jZ-kEfsqr9PExPgA=s64",
      "userId": "11285277856393831417"
     },
     "user_tz": -330
    },
    "id": "S9Yab10E-fLd"
   },
   "outputs": [],
   "source": [
    "dataset_folder_path = './Dataset'"
   ]
  },
  {
   "cell_type": "markdown",
   "metadata": {
    "id": "s534VNmNfTaf"
   },
   "source": [
    "Dataset used for this code is available here : http://www.win.tue.nl/~mpechen/projects/smm/\n"
   ]
  },
  {
   "cell_type": "code",
   "execution_count": 3,
   "metadata": {
    "executionInfo": {
     "elapsed": 365,
     "status": "ok",
     "timestamp": 1624875420415,
     "user": {
      "displayName": "TALHA CHAFEKAR",
      "photoUrl": "https://lh3.googleusercontent.com/a-/AOh14GgJ4JowjYk8gpny71NUDTcSh3jZ-kEfsqr9PExPgA=s64",
      "userId": "11285277856393831417"
     },
     "user_tz": -330
    },
    "id": "kjFM2udW-m9o"
   },
   "outputs": [],
   "source": [
    "def create_dataset_csv(folder_path):\n",
    "  '''\n",
    "  Creates a csv from a folder directory structure\n",
    "  Input: \n",
    "    folder_path - Path to folder of dataset. \n",
    "  '''\n",
    "  field_names = ['text','language']\n",
    "  processed_count = 0\n",
    "  csv_object = open(os.path.join('./Dataset','lid_dataset.csv'), 'a')\n",
    "  dictwriter_object = DictWriter(csv_object, fieldnames=field_names)\n",
    "  for _file in os.listdir(folder_path): \n",
    "    for txt_file_path in os.listdir(os.path.join(folder_path,_file)):\n",
    "      txt_file_object = open(os.path.join(folder_path,_file,txt_file_path),'r')\n",
    "      if processed_count % 100 == 0:\n",
    "        print(processed_count)\n",
    "      text_content = txt_file_object.read() \n",
    "      dictwriter_object.writerow({\n",
    "          'text':text_content,\n",
    "          'language':_file\n",
    "      })\n",
    "      processed_count += 1\n",
    "\n",
    "  csv_object.close()\n",
    "# create_dataset_csv(dataset_folder_path)"
   ]
  },
  {
   "cell_type": "code",
   "execution_count": 4,
   "metadata": {
    "colab": {
     "base_uri": "https://localhost:8080/",
     "height": 359
    },
    "executionInfo": {
     "elapsed": 1647,
     "status": "ok",
     "timestamp": 1624869851872,
     "user": {
      "displayName": "TALHA CHAFEKAR",
      "photoUrl": "https://lh3.googleusercontent.com/a-/AOh14GgJ4JowjYk8gpny71NUDTcSh3jZ-kEfsqr9PExPgA=s64",
      "userId": "11285277856393831417"
     },
     "user_tz": -330
    },
    "id": "yhuYO-4PhBWj",
    "outputId": "54829667-c327-4360-d632-1b046c75e19f"
   },
   "outputs": [
    {
     "data": {
      "text/html": [
       "<div>\n",
       "<style scoped>\n",
       "    .dataframe tbody tr th:only-of-type {\n",
       "        vertical-align: middle;\n",
       "    }\n",
       "\n",
       "    .dataframe tbody tr th {\n",
       "        vertical-align: top;\n",
       "    }\n",
       "\n",
       "    .dataframe thead th {\n",
       "        text-align: right;\n",
       "    }\n",
       "</style>\n",
       "<table border=\"1\" class=\"dataframe\">\n",
       "  <thead>\n",
       "    <tr style=\"text-align: right;\">\n",
       "      <th></th>\n",
       "      <th>text</th>\n",
       "      <th>language</th>\n",
       "    </tr>\n",
       "  </thead>\n",
       "  <tbody>\n",
       "    <tr>\n",
       "      <th>0</th>\n",
       "      <td>winter storm taking aim at southeast</td>\n",
       "      <td>en_UK</td>\n",
       "    </tr>\n",
       "    <tr>\n",
       "      <th>1</th>\n",
       "      <td>toure ready to show credentials yaya toure bel...</td>\n",
       "      <td>en_UK</td>\n",
       "    </tr>\n",
       "    <tr>\n",
       "      <th>2</th>\n",
       "      <td>cnn fact check paying for that sputnik moment</td>\n",
       "      <td>en_UK</td>\n",
       "    </tr>\n",
       "    <tr>\n",
       "      <th>3</th>\n",
       "      <td>the taliban in pakistan weve got a bigger prob...</td>\n",
       "      <td>en_UK</td>\n",
       "    </tr>\n",
       "    <tr>\n",
       "      <th>4</th>\n",
       "      <td>bbc reporter people in cornwall make compariso...</td>\n",
       "      <td>en_UK</td>\n",
       "    </tr>\n",
       "    <tr>\n",
       "      <th>5</th>\n",
       "      <td>have a look here this should be useful</td>\n",
       "      <td>en_UK</td>\n",
       "    </tr>\n",
       "    <tr>\n",
       "      <th>6</th>\n",
       "      <td>hundreds die in cambodia stampede</td>\n",
       "      <td>en_UK</td>\n",
       "    </tr>\n",
       "    <tr>\n",
       "      <th>7</th>\n",
       "      <td>any luck chris let us know if you need any help</td>\n",
       "      <td>en_UK</td>\n",
       "    </tr>\n",
       "    <tr>\n",
       "      <th>8</th>\n",
       "      <td>o2 gets better connected on carbon</td>\n",
       "      <td>en_UK</td>\n",
       "    </tr>\n",
       "    <tr>\n",
       "      <th>9</th>\n",
       "      <td>coyle compiles referee dvd bolton manager owen...</td>\n",
       "      <td>en_UK</td>\n",
       "    </tr>\n",
       "  </tbody>\n",
       "</table>\n",
       "</div>"
      ],
      "text/plain": [
       "                                                text language\n",
       "0               winter storm taking aim at southeast    en_UK\n",
       "1  toure ready to show credentials yaya toure bel...    en_UK\n",
       "2      cnn fact check paying for that sputnik moment    en_UK\n",
       "3  the taliban in pakistan weve got a bigger prob...    en_UK\n",
       "4  bbc reporter people in cornwall make compariso...    en_UK\n",
       "5             have a look here this should be useful    en_UK\n",
       "6                  hundreds die in cambodia stampede    en_UK\n",
       "7    any luck chris let us know if you need any help    en_UK\n",
       "8                 o2 gets better connected on carbon    en_UK\n",
       "9  coyle compiles referee dvd bolton manager owen...    en_UK"
      ]
     },
     "execution_count": 4,
     "metadata": {},
     "output_type": "execute_result"
    }
   ],
   "source": [
    "csv_path = './Dataset/lid_dataset.csv'\n",
    "dataset = pd.read_csv(csv_path)\n",
    "dataset.columns = ['text','language']\n",
    "dataset.head(10)"
   ]
  },
  {
   "cell_type": "markdown",
   "metadata": {
    "id": "ZHHBF30ZGBXw"
   },
   "source": [
    "The dataset consists of 6 languages: <br> \n",
    "de_DE - German <br>\n",
    "en_UK - English <br>\n",
    "es_ES - Spanish <br>\n",
    "fr_FR - French <br>\n",
    "it_IT - Italian <br>\n",
    "nl_NL - Dutch <br>"
   ]
  },
  {
   "cell_type": "code",
   "execution_count": 5,
   "metadata": {},
   "outputs": [],
   "source": [
    "lang_mapping = {\n",
    "'de_DE':'German',\n",
    "'en_UK':'English',\n",
    "'es_ES':'Spanish',\n",
    "'fr_FR':'French',\n",
    "'it_IT':'Italian',\n",
    "'nl_NL':'Dutch' \n",
    "}\n",
    "\n",
    "dataset = dataset.replace({\"language\": lang_mapping},inplace=False)"
   ]
  },
  {
   "cell_type": "code",
   "execution_count": 6,
   "metadata": {
    "colab": {
     "base_uri": "https://localhost:8080/"
    },
    "executionInfo": {
     "elapsed": 33,
     "status": "ok",
     "timestamp": 1624869851873,
     "user": {
      "displayName": "TALHA CHAFEKAR",
      "photoUrl": "https://lh3.googleusercontent.com/a-/AOh14GgJ4JowjYk8gpny71NUDTcSh3jZ-kEfsqr9PExPgA=s64",
      "userId": "11285277856393831417"
     },
     "user_tz": -330
    },
    "id": "ISANUwGMhX9X",
    "outputId": "45c0c3d0-3e8d-4624-acb5-aac21e91c674"
   },
   "outputs": [
    {
     "data": {
      "text/plain": [
       "Italian    7695\n",
       "French     7583\n",
       "English    7524\n",
       "Spanish    2595\n",
       "German     1479\n",
       "Dutch      1430\n",
       "Name: language, dtype: int64"
      ]
     },
     "execution_count": 6,
     "metadata": {},
     "output_type": "execute_result"
    }
   ],
   "source": [
    "dataset['language'].value_counts()"
   ]
  },
  {
   "cell_type": "code",
   "execution_count": 7,
   "metadata": {
    "colab": {
     "base_uri": "https://localhost:8080/"
    },
    "executionInfo": {
     "elapsed": 395,
     "status": "ok",
     "timestamp": 1624873843093,
     "user": {
      "displayName": "TALHA CHAFEKAR",
      "photoUrl": "https://lh3.googleusercontent.com/a-/AOh14GgJ4JowjYk8gpny71NUDTcSh3jZ-kEfsqr9PExPgA=s64",
      "userId": "11285277856393831417"
     },
     "user_tz": -330
    },
    "id": "h2nyhTF67J_a",
    "outputId": "8b091a7b-8264-4265-d740-93a95ef65c4b"
   },
   "outputs": [
    {
     "name": "stdout",
     "output_type": "stream",
     "text": [
      "Training dataset size:  7200\n",
      "Testing dataset size:  1200\n"
     ]
    }
   ],
   "source": [
    "train_df_list = []\n",
    "test_df_list = []\n",
    "languages = dataset['language'].unique()\n",
    "for language in languages:\n",
    "  train_df_list.append(dataset[dataset['language'] == language][:1200])\n",
    "  test_df_list.append(dataset[dataset['language'] == language][1200:1400])\n",
    "\n",
    "train_df = pd.concat(train_df_list)\n",
    "test_df = pd.concat(test_df_list)\n",
    "\n",
    "print(\"Training dataset size: \",len(train_df))\n",
    "print(\"Testing dataset size: \",len(test_df))"
   ]
  },
  {
   "cell_type": "code",
   "execution_count": 8,
   "metadata": {
    "colab": {
     "base_uri": "https://localhost:8080/"
    },
    "executionInfo": {
     "elapsed": 370,
     "status": "ok",
     "timestamp": 1624875413135,
     "user": {
      "displayName": "TALHA CHAFEKAR",
      "photoUrl": "https://lh3.googleusercontent.com/a-/AOh14GgJ4JowjYk8gpny71NUDTcSh3jZ-kEfsqr9PExPgA=s64",
      "userId": "11285277856393831417"
     },
     "user_tz": -330
    },
    "id": "JvTw7XLJ9pSE",
    "outputId": "168da58d-91da-4dae-dec8-c960756d65bc"
   },
   "outputs": [
    {
     "name": "stdout",
     "output_type": "stream",
     "text": [
      "Spanish    1200\n",
      "Dutch      1200\n",
      "German     1200\n",
      "French     1200\n",
      "Italian    1200\n",
      "English    1200\n",
      "Name: language, dtype: int64\n",
      "Dutch      200\n",
      "German     200\n",
      "Italian    200\n",
      "French     200\n",
      "English    200\n",
      "Spanish    200\n",
      "Name: language, dtype: int64\n"
     ]
    }
   ],
   "source": [
    "def convert_to_ngrams(text,n):\n",
    "  '''\n",
    "  Converts to text to an n-gram list.\n",
    "  Input: \n",
    "    text - String input\n",
    "    n - number of characters per n-gram.\n",
    "  Output:\n",
    "  '''\n",
    "  text = text.replace(' ','.')\n",
    "  text = [text[i:i+n] for i in range(len(text)-n)]\n",
    "  return text\n",
    "\n",
    "train_df['n-gram'] = train_df['text'].apply(lambda x:convert_to_ngrams(x,3))\n",
    "test_df['n-gram'] = test_df['text'].apply(lambda x:convert_to_ngrams(x,3))\n",
    "\n",
    "train_df = train_df.sample(frac = 1)\n",
    "test_df = test_df.sample(frac = 1)\n",
    "\n",
    "print(train_df['language'].value_counts())\n",
    "print(test_df['language'].value_counts())"
   ]
  },
  {
   "cell_type": "code",
   "execution_count": 9,
   "metadata": {
    "executionInfo": {
     "elapsed": 3,
     "status": "ok",
     "timestamp": 1624873845361,
     "user": {
      "displayName": "TALHA CHAFEKAR",
      "photoUrl": "https://lh3.googleusercontent.com/a-/AOh14GgJ4JowjYk8gpny71NUDTcSh3jZ-kEfsqr9PExPgA=s64",
      "userId": "11285277856393831417"
     },
     "user_tz": -330
    },
    "id": "zOm314KtDkF5"
   },
   "outputs": [],
   "source": [
    "class Vertex:\n",
    "  '''\n",
    "    A class to represent vertices in the graph.\n",
    "  '''\n",
    "  def __init__(self,node,languages):\n",
    "    self.id = node\n",
    "    self.adjacent = {}\n",
    "    self.languages = languages \n",
    "    # This dictionary keeps track of the frequency of the current n-gram text for all languages.\n",
    "    self.languages_dict = {language:0 for language in self.languages} \n",
    "  \n",
    "  def __str__(self):\n",
    "    return str(self.id) + ' adjacent: ' + str([x.id for x in self.adjacent])\n",
    "  \n",
    "  def add_neighbour(self,vertex,weight):\n",
    "    '''\n",
    "    Used to add a neighbour vertex or to update the weight between vertices\n",
    "    Input:\n",
    "      vertex - vertex which is to be added.\n",
    "      weight - A dictionary which represents the edge weight between two vertices.\n",
    "    '''\n",
    "    self.adjacent[vertex] = weight\n",
    "  \n",
    "  def get_edge_weights(self,to_vertex):\n",
    "    '''\n",
    "    Used to get edge weights\n",
    "    '''\n",
    "    return self.adjacent[to_vertex]\n",
    "  \n",
    "  def update_weight(self,language):\n",
    "    '''\n",
    "    Used to update weight for a language of the current vertex. \n",
    "    '''\n",
    "    self.languages_dict[language] += 1\n",
    "  "
   ]
  },
  {
   "cell_type": "code",
   "execution_count": 10,
   "metadata": {
    "executionInfo": {
     "elapsed": 3,
     "status": "ok",
     "timestamp": 1624873846364,
     "user": {
      "displayName": "TALHA CHAFEKAR",
      "photoUrl": "https://lh3.googleusercontent.com/a-/AOh14GgJ4JowjYk8gpny71NUDTcSh3jZ-kEfsqr9PExPgA=s64",
      "userId": "11285277856393831417"
     },
     "user_tz": -330
    },
    "id": "Wcl3OqZNEO55"
   },
   "outputs": [],
   "source": [
    "class Graph:\n",
    "  '''\n",
    "    A class to represent the entire corpus of training data. \n",
    "  '''\n",
    "  def __init__(self,languages):\n",
    "    self.vertices_dictionary = {}\n",
    "    self.total_vertices = 0\n",
    "    self.languages = languages\n",
    "    # This dictionary is used to initialize edge weights. \n",
    "    self.languages_dict = {language:0 for language in self.languages} \n",
    "\n",
    "  def __iter__(self):\n",
    "    return iter(self.vertices_dictionary.values())\n",
    "  \n",
    "  def add_vertex(self,node):\n",
    "    '''\n",
    "    Used for adding a vertex to the graph.\n",
    "    '''\n",
    "    self.total_vertices += 1\n",
    "    new_vertex = Vertex(node,languages)\n",
    "    self.vertices_dictionary[node] = new_vertex\n",
    "    return new_vertex\n",
    "  \n",
    "  def get_vertex(self,node):\n",
    "    '''\n",
    "    Used to return a vertex from the graph. Returns false if vertex is not present.\n",
    "    '''\n",
    "    if self.vertices_dictionary.get(node):\n",
    "      return self.vertices_dictionary[node]\n",
    "    else:\n",
    "      return None\n",
    "\n",
    "  def check_edge(self,from_vertex,to_vertex):\n",
    "    '''\n",
    "    Used to check if edge is present in the graph between two vertices.\n",
    "    '''\n",
    "    if not self.vertices_dictionary.get(from_vertex): \n",
    "      return False\n",
    "\n",
    "    if not self.vertices_dictionary.get(to_vertex): \n",
    "      return False\n",
    "\n",
    "    if self.vertices_dictionary[from_vertex].adjacent.get(to_vertex):\n",
    "      return True \n",
    "    return False\n",
    "\n",
    "  def add_edge(self,from_vertex,to_vertex,cost = None):\n",
    "    '''\n",
    "    Used to add an edge between two vertices. \n",
    "    '''\n",
    "    if not cost:\n",
    "      cost = self.languages_dict\n",
    "\n",
    "    if not self.vertices_dictionary.get(from_vertex):\n",
    "      self.add_vertex(from_vertex)\n",
    "    if not self.vertices_dictionary.get(from_vertex):\n",
    "      self.add_vertex(to_vertex)\n",
    "    \n",
    "    self.vertices_dictionary[from_vertex].add_neighbour(self.vertices_dictionary[to_vertex],cost)"
   ]
  },
  {
   "cell_type": "markdown",
   "metadata": {
    "id": "HZnC8N6iN6I3"
   },
   "source": [
    "# Training Algorithm\n"
   ]
  },
  {
   "cell_type": "code",
   "execution_count": 11,
   "metadata": {
    "executionInfo": {
     "elapsed": 2870,
     "status": "ok",
     "timestamp": 1624873850164,
     "user": {
      "displayName": "TALHA CHAFEKAR",
      "photoUrl": "https://lh3.googleusercontent.com/a-/AOh14GgJ4JowjYk8gpny71NUDTcSh3jZ-kEfsqr9PExPgA=s64",
      "userId": "11285277856393831417"
     },
     "user_tz": -330
    },
    "id": "aYrLnOGPGkGY"
   },
   "outputs": [],
   "source": [
    "def build_graph(x,y):\n",
    "  '''\n",
    "  Used to build a model from the corpus.\n",
    "  Input:\n",
    "    x - List of n-gram data points.\n",
    "    y - List of labels for the data points.\n",
    "  Output:\n",
    "    model - A Graph which is trained on the corpus.\n",
    "  '''\n",
    "  model = Graph(y.unique())\n",
    "  for text,language in zip(x,y):\n",
    "    # Update Vertex weights\n",
    "    for i,word in enumerate(text):\n",
    "      if model.get_vertex(word):\n",
    "        # Update word's language dict\n",
    "        model.vertices_dictionary[word].update_weight(language)\n",
    "      else:\n",
    "        # Add word to graph with a language dictionary\n",
    "        model.add_vertex(word)\n",
    "        model.vertices_dictionary[word].update_weight(language)\n",
    "\n",
    "    # Update edge weights\n",
    "    for i in range(1,len(text)):\n",
    "      if model.get_vertex(text[i]):\n",
    "        # Update previous node's and current node's language weight\n",
    "        prev_node = text[i-1]\n",
    "        if model.check_edge(prev_node,text[i]):\n",
    "          edge_weights = model.vertices_dictionary[prev_node].get_edge_weights(text[i])\n",
    "          edge_weights[language] += 1\n",
    "          model.vertices_dictionary[prev_node].add_neighbour(text[i],edge_weights)\n",
    "        else:\n",
    "          # If there is no edge between previous node and current node. \n",
    "          curr_language_dict = {lang:0 for lang in model.languages}\n",
    "          curr_language_dict[language] = 1\n",
    "          model.add_edge(text[i-1],text[i],curr_language_dict)\n",
    "  \n",
    "  return model    \n",
    "\n",
    "\n",
    "model = build_graph(train_df['n-gram'],train_df['language'])"
   ]
  },
  {
   "cell_type": "markdown",
   "metadata": {
    "id": "Y-QIdIHJdzZE"
   },
   "source": [
    "# Inference algorithm"
   ]
  },
  {
   "cell_type": "code",
   "execution_count": 12,
   "metadata": {
    "executionInfo": {
     "elapsed": 381,
     "status": "ok",
     "timestamp": 1624873853905,
     "user": {
      "displayName": "TALHA CHAFEKAR",
      "photoUrl": "https://lh3.googleusercontent.com/a-/AOh14GgJ4JowjYk8gpny71NUDTcSh3jZ-kEfsqr9PExPgA=s64",
      "userId": "11285277856393831417"
     },
     "user_tz": -330
    },
    "id": "YN_Pvp78BlRj"
   },
   "outputs": [],
   "source": [
    "def evaluate_sentence(model,x,y):\n",
    "  '''\n",
    "  Function used to evaluate a text.\n",
    "  '''\n",
    "  # This dictionary calculates path matching scores for each language. \n",
    "  path_matching_dict = {lang:0 for lang in model.languages}\n",
    "  \n",
    "  # We calculate the sum of all edge weights and sum of all vertex weights which\n",
    "  # will be used to normalize score for inference on test data point.\n",
    "  vertex_normalizing_scores = 0\n",
    "  edge_normalizing_scores = 0\n",
    "  for vertex in model.vertices_dictionary.values():\n",
    "    for score in vertex.languages_dict.values():\n",
    "      vertex_normalizing_scores += score\n",
    "\n",
    "    for edge_weights in vertex.adjacent.values():\n",
    "      for weight in edge_weights.values():\n",
    "        edge_normalizing_scores += weight\n",
    "    \n",
    "  for test_vertex in x:\n",
    "    if model.get_vertex(test_vertex):\n",
    "      model_vertex = model.get_vertex(test_vertex)\n",
    "      for lang,weight in model_vertex.languages_dict.items():\n",
    "        path_matching_dict[lang] += (weight / vertex_normalizing_scores)\n",
    "  \n",
    "  for i in range(1,len(x)):\n",
    "    prev_node = x[i-1]\n",
    "    if model.check_edge(prev_node,x[i]):\n",
    "      edge_weights = model.vertices_dictionary[prev_node].get_edge_weights(x[i])\n",
    "      for lang,weight in edge_weight.items():\n",
    "        path_matching_dict[language] += (weight / edge_normalizing_scores)\n",
    "  \n",
    "  # We calculate the max value from our calculated scores.\n",
    "  predicted_lang = max(path_matching_dict, key=path_matching_dict.get)\n",
    "  \n",
    "  return predicted_lang,y"
   ]
  },
  {
   "cell_type": "code",
   "execution_count": 13,
   "metadata": {},
   "outputs": [],
   "source": [
    "import sys\n",
    "import pickle\n",
    "\n",
    "# sys.setrecursionlimit(50000)\n",
    "# pickle.dump(model,open('./liga_model.pkl','wb'))\n",
    "# model = pickle.load(open('./liga_model.pkl','rb'))"
   ]
  },
  {
   "cell_type": "code",
   "execution_count": 14,
   "metadata": {},
   "outputs": [
    {
     "data": {
      "text/html": [
       "<div>\n",
       "<style scoped>\n",
       "    .dataframe tbody tr th:only-of-type {\n",
       "        vertical-align: middle;\n",
       "    }\n",
       "\n",
       "    .dataframe tbody tr th {\n",
       "        vertical-align: top;\n",
       "    }\n",
       "\n",
       "    .dataframe thead th {\n",
       "        text-align: right;\n",
       "    }\n",
       "</style>\n",
       "<table border=\"1\" class=\"dataframe\">\n",
       "  <thead>\n",
       "    <tr style=\"text-align: right;\">\n",
       "      <th></th>\n",
       "      <th>text</th>\n",
       "      <th>language</th>\n",
       "      <th>n-gram</th>\n",
       "    </tr>\n",
       "  </thead>\n",
       "  <tbody>\n",
       "    <tr>\n",
       "      <th>2851</th>\n",
       "      <td>una interessante hashtag da seguire nei prossi...</td>\n",
       "      <td>Italian</td>\n",
       "      <td>[una, na., a.i, .in, int, nte, ter, ere, res, ...</td>\n",
       "    </tr>\n",
       "    <tr>\n",
       "      <th>2862</th>\n",
       "      <td>il cairo esercito separa oppositori e sostenit...</td>\n",
       "      <td>Italian</td>\n",
       "      <td>[il., l.c, .ca, cai, air, iro, ro., o.e, .es, ...</td>\n",
       "    </tr>\n",
       "    <tr>\n",
       "      <th>2781</th>\n",
       "      <td>si avvicina la pausa natalizia il momento idea...</td>\n",
       "      <td>Italian</td>\n",
       "      <td>[si., i.a, .av, avv, vvi, vic, ici, cin, ina, ...</td>\n",
       "    </tr>\n",
       "    <tr>\n",
       "      <th>2871</th>\n",
       "      <td>grazie per la risposta ma allora ti chiedo se ...</td>\n",
       "      <td>Italian</td>\n",
       "      <td>[gra, raz, azi, zie, ie., e.p, .pe, per, er., ...</td>\n",
       "    </tr>\n",
       "    <tr>\n",
       "      <th>2822</th>\n",
       "      <td>ho pubblicato 13 foto su facebook nellalbum li...</td>\n",
       "      <td>Italian</td>\n",
       "      <td>[ho., o.p, .pu, pub, ubb, bbl, bli, lic, ica, ...</td>\n",
       "    </tr>\n",
       "    <tr>\n",
       "      <th>...</th>\n",
       "      <td>...</td>\n",
       "      <td>...</td>\n",
       "      <td>...</td>\n",
       "    </tr>\n",
       "    <tr>\n",
       "      <th>2798</th>\n",
       "      <td>ecco in esclusiva per il web i primi 2 minuti ...</td>\n",
       "      <td>Italian</td>\n",
       "      <td>[ecc, cco, co., o.i, .in, in., n.e, .es, esc, ...</td>\n",
       "    </tr>\n",
       "    <tr>\n",
       "      <th>2771</th>\n",
       "      <td>la sfida più grande tra gli avversari più vici...</td>\n",
       "      <td>Italian</td>\n",
       "      <td>[la., a.s, .sf, sfi, fid, ida, da., a.p, .pi, ...</td>\n",
       "    </tr>\n",
       "    <tr>\n",
       "      <th>2789</th>\n",
       "      <td>coree colloqui militari l8 febbraio</td>\n",
       "      <td>Italian</td>\n",
       "      <td>[cor, ore, ree, ee., e.c, .co, col, oll, llo, ...</td>\n",
       "    </tr>\n",
       "    <tr>\n",
       "      <th>2717</th>\n",
       "      <td>lattrice claudia cardinale è lospite intervist...</td>\n",
       "      <td>Italian</td>\n",
       "      <td>[lat, att, ttr, tri, ric, ice, ce., e.c, .cl, ...</td>\n",
       "    </tr>\n",
       "    <tr>\n",
       "      <th>2836</th>\n",
       "      <td>e ora la nostra prima colazione soyuz 2 lattin...</td>\n",
       "      <td>Italian</td>\n",
       "      <td>[e.o, .or, ora, ra., a.l, .la, la., a.n, .no, ...</td>\n",
       "    </tr>\n",
       "  </tbody>\n",
       "</table>\n",
       "<p>200 rows × 3 columns</p>\n",
       "</div>"
      ],
      "text/plain": [
       "                                                   text language  \\\n",
       "2851  una interessante hashtag da seguire nei prossi...  Italian   \n",
       "2862  il cairo esercito separa oppositori e sostenit...  Italian   \n",
       "2781  si avvicina la pausa natalizia il momento idea...  Italian   \n",
       "2871  grazie per la risposta ma allora ti chiedo se ...  Italian   \n",
       "2822  ho pubblicato 13 foto su facebook nellalbum li...  Italian   \n",
       "...                                                 ...      ...   \n",
       "2798  ecco in esclusiva per il web i primi 2 minuti ...  Italian   \n",
       "2771  la sfida più grande tra gli avversari più vici...  Italian   \n",
       "2789                coree colloqui militari l8 febbraio  Italian   \n",
       "2717  lattrice claudia cardinale è lospite intervist...  Italian   \n",
       "2836  e ora la nostra prima colazione soyuz 2 lattin...  Italian   \n",
       "\n",
       "                                                 n-gram  \n",
       "2851  [una, na., a.i, .in, int, nte, ter, ere, res, ...  \n",
       "2862  [il., l.c, .ca, cai, air, iro, ro., o.e, .es, ...  \n",
       "2781  [si., i.a, .av, avv, vvi, vic, ici, cin, ina, ...  \n",
       "2871  [gra, raz, azi, zie, ie., e.p, .pe, per, er., ...  \n",
       "2822  [ho., o.p, .pu, pub, ubb, bbl, bli, lic, ica, ...  \n",
       "...                                                 ...  \n",
       "2798  [ecc, cco, co., o.i, .in, in., n.e, .es, esc, ...  \n",
       "2771  [la., a.s, .sf, sfi, fid, ida, da., a.p, .pi, ...  \n",
       "2789  [cor, ore, ree, ee., e.c, .co, col, oll, llo, ...  \n",
       "2717  [lat, att, ttr, tri, ric, ice, ce., e.c, .cl, ...  \n",
       "2836  [e.o, .or, ora, ra., a.l, .la, la., a.n, .no, ...  \n",
       "\n",
       "[200 rows x 3 columns]"
      ]
     },
     "execution_count": 14,
     "metadata": {},
     "output_type": "execute_result"
    }
   ],
   "source": [
    "test_df[test_df['language']=='Italian']"
   ]
  },
  {
   "cell_type": "code",
   "execution_count": 15,
   "metadata": {
    "colab": {
     "base_uri": "https://localhost:8080/"
    },
    "executionInfo": {
     "elapsed": 74485,
     "status": "ok",
     "timestamp": 1624873930967,
     "user": {
      "displayName": "TALHA CHAFEKAR",
      "photoUrl": "https://lh3.googleusercontent.com/a-/AOh14GgJ4JowjYk8gpny71NUDTcSh3jZ-kEfsqr9PExPgA=s64",
      "userId": "11285277856393831417"
     },
     "user_tz": -330
    },
    "id": "NqUGkvkAGDxg",
    "outputId": "27a64c0f-96c4-4375-eb93-5fff42bda6fb"
   },
   "outputs": [
    {
     "name": "stdout",
     "output_type": "stream",
     "text": [
      "Accuracy on the test dataset is:  94.66666666666667\n"
     ]
    }
   ],
   "source": [
    "def test_dataset(test_df,model):\n",
    "  '''\n",
    "  Used to carry out testing on the test dataset.\n",
    "  '''\n",
    "  accuracy = 0\n",
    "  dataset_preds = []\n",
    "  for index,row in test_df.iterrows():\n",
    "    preds,y = evaluate_sentence(model,row['n-gram'],row['language'])\n",
    "    dataset_preds.append(preds)\n",
    "\n",
    "    if preds == y:\n",
    "      accuracy += 1\n",
    "\n",
    "  accuracy /= len(test_df)\n",
    "  return accuracy,dataset_preds\n",
    "\n",
    "acc,dataset_preds = test_dataset(test_df,model)\n",
    "print(\"Accuracy on the test dataset is: \",acc*100)"
   ]
  },
  {
   "cell_type": "code",
   "execution_count": 16,
   "metadata": {},
   "outputs": [],
   "source": [
    "test_df.to_csv('./test.csv',index=False)"
   ]
  },
  {
   "cell_type": "code",
   "execution_count": 30,
   "metadata": {},
   "outputs": [
    {
     "name": "stdout",
     "output_type": "stream",
     "text": [
      "['Dutch' 'English' 'French' 'German' 'Italian' 'Spanish']\n"
     ]
    }
   ],
   "source": [
    "lang_labels = sklearn.utils.multiclass.unique_labels(test_df['language'].values)\n",
    "print(lang_labels)"
   ]
  },
  {
   "cell_type": "code",
   "execution_count": 31,
   "metadata": {},
   "outputs": [
    {
     "data": {
      "image/png": "[encoded data removed]",
      "text/plain": [
       "<Figure size 1080x720 with 2 Axes>"
      ]
     },
     "metadata": {
      "needs_background": "light"
     },
     "output_type": "display_data"
    }
   ],
   "source": [
    "cm = confusion_matrix(test_df['language'].values, dataset_preds)\n",
    "cm_df = pd.DataFrame(cm,index = list(lang_labels), \n",
    "                     columns = list(lang_labels))\n",
    "\n",
    "plt.figure(figsize=(15,10))\n",
    "sns.heatmap(cm_df, annot=True,fmt='g')\n",
    "plt.title('LIGA \\nAccuracy:{0:.3f}'.format(acc*100))\n",
    "plt.ylabel('True label')\n",
    "plt.xlabel('Predicted label')\n",
    "plt.show()"
   ]
  },
  {
   "cell_type": "code",
   "execution_count": 32,
   "metadata": {
    "colab": {
     "base_uri": "https://localhost:8080/"
    },
    "executionInfo": {
     "elapsed": 364,
     "status": "ok",
     "timestamp": 1624874034681,
     "user": {
      "displayName": "TALHA CHAFEKAR",
      "photoUrl": "https://lh3.googleusercontent.com/a-/AOh14GgJ4JowjYk8gpny71NUDTcSh3jZ-kEfsqr9PExPgA=s64",
      "userId": "11285277856393831417"
     },
     "user_tz": -330
    },
    "id": "0B-J7VR584cT",
    "outputId": "5f351a8e-3120-4eb3-85a7-c8e559b0a197"
   },
   "outputs": [
    {
     "name": "stdout",
     "output_type": "stream",
     "text": [
      "              precision    recall  f1-score   support\n",
      "\n",
      "       Dutch       0.96      0.98      0.97       200\n",
      "     English       0.98      0.91      0.94       200\n",
      "      French       0.85      0.95      0.90       200\n",
      "      German       0.97      0.94      0.95       200\n",
      "     Italian       0.96      0.94      0.95       200\n",
      "     Spanish       0.97      0.95      0.96       200\n",
      "\n",
      "    accuracy                           0.95      1200\n",
      "   macro avg       0.95      0.95      0.95      1200\n",
      "weighted avg       0.95      0.95      0.95      1200\n",
      "\n"
     ]
    }
   ],
   "source": [
    "clf_report = classification_report(test_df['language'].values, dataset_preds)\n",
    "print(clf_report)"
   ]
  }
 ],
 "metadata": {
  "colab": {
   "authorship_tag": "ABX9TyPbAhawrBcpeHdwiqSGLRDh",
   "collapsed_sections": [],
   "mount_file_id": "1UzVagpuadaZN5Oo0YuMhDctXoJtostI6",
   "name": "LIGA_Language_Identification.ipynb",
   "provenance": []
  },
  "kernelspec": {
   "display_name": "Python 3",
   "language": "python",
   "name": "python3"
  },
  "language_info": {
   "codemirror_mode": {
    "name": "ipython",
    "version": 3
   },
   "file_extension": ".py",
   "mimetype": "text/x-python",
   "name": "python",
   "nbconvert_exporter": "python",
   "pygments_lexer": "ipython3",
   "version": "3.6.9"
  }
 },
 "nbformat": 4,
 "nbformat_minor": 1
}
