{
  "nbformat": 4,
  "nbformat_minor": 0,
  "metadata": {
    "colab": {
      "name": "character_level_lstm_pytorch.ipynb",
      "provenance": [],
      "collapsed_sections": [],
      "mount_file_id": "1LclGc0VQcHb9YrEEzy4IPePp201hb5hY",
      "authorship_tag": "ABX9TyODQVi97KHFa0nK+PyDbg4/",
      "include_colab_link": true
    },
    "kernelspec": {
      "name": "python3",
      "display_name": "Python 3"
    },
    "language_info": {
      "name": "python"
    },
    "accelerator": "GPU"
  },
  "cells": [
    {
      "cell_type": "markdown",
      "metadata": {
        "id": "view-in-github",
        "colab_type": "text"
      },
      "source": [
        "<a href=\"https://colab.research.google.com/github/talha1503/Language-Identification/blob/master/character_level_lstm_pytorch.ipynb\" target=\"_parent\"><img src=\"https://colab.research.google.com/assets/colab-badge.svg\" alt=\"Open In Colab\"/></a>"
      ]
    },
    {
      "cell_type": "code",
      "metadata": {
        "id": "NbadqZ-5k-g4"
      },
      "source": [
        "import numpy as np\n",
        "import pandas as pd\n",
        "import os\n",
        "from csv import DictWriter\n",
        "import sklearn\n",
        "from sklearn.metrics import classification_report,confusion_matrix\n",
        "from sklearn.model_selection import KFold\n",
        "import seaborn as sns\n",
        "import matplotlib.pyplot as plt\n",
        "import torch\n",
        "import torch.nn as nn\n",
        "import torch.nn.functional as F\n",
        "from sklearn.metrics import classification_report,confusion_matrix"
      ],
      "execution_count": null,
      "outputs": []
    },
    {
      "cell_type": "code",
      "metadata": {
        "id": "lZCt8AAfqg__"
      },
      "source": [
        "device = torch.device('cuda' if torch.cuda.is_available() else 'cpu')"
      ],
      "execution_count": null,
      "outputs": []
    },
    {
      "cell_type": "code",
      "metadata": {
        "colab": {
          "base_uri": "https://localhost:8080/",
          "height": 359
        },
        "id": "VvK0BTHMlFJi",
        "outputId": "f6c3b104-f5da-4f0e-aa00-2f0f99a20f0e"
      },
      "source": [
        "csv_path = '/content/drive/MyDrive/lid_dataset.csv'\n",
        "dataset = pd.read_csv(csv_path)\n",
        "dataset.columns = ['text','language']\n",
        "dataset.head(10)"
      ],
      "execution_count": null,
      "outputs": [
        {
          "output_type": "execute_result",
          "data": {
            "text/html": [
              "<div>\n",
              "<style scoped>\n",
              "    .dataframe tbody tr th:only-of-type {\n",
              "        vertical-align: middle;\n",
              "    }\n",
              "\n",
              "    .dataframe tbody tr th {\n",
              "        vertical-align: top;\n",
              "    }\n",
              "\n",
              "    .dataframe thead th {\n",
              "        text-align: right;\n",
              "    }\n",
              "</style>\n",
              "<table border=\"1\" class=\"dataframe\">\n",
              "  <thead>\n",
              "    <tr style=\"text-align: right;\">\n",
              "      <th></th>\n",
              "      <th>text</th>\n",
              "      <th>language</th>\n",
              "    </tr>\n",
              "  </thead>\n",
              "  <tbody>\n",
              "    <tr>\n",
              "      <th>0</th>\n",
              "      <td>winter storm taking aim at southeast</td>\n",
              "      <td>en_UK</td>\n",
              "    </tr>\n",
              "    <tr>\n",
              "      <th>1</th>\n",
              "      <td>toure ready to show credentials yaya toure bel...</td>\n",
              "      <td>en_UK</td>\n",
              "    </tr>\n",
              "    <tr>\n",
              "      <th>2</th>\n",
              "      <td>cnn fact check paying for that sputnik moment</td>\n",
              "      <td>en_UK</td>\n",
              "    </tr>\n",
              "    <tr>\n",
              "      <th>3</th>\n",
              "      <td>the taliban in pakistan weve got a bigger prob...</td>\n",
              "      <td>en_UK</td>\n",
              "    </tr>\n",
              "    <tr>\n",
              "      <th>4</th>\n",
              "      <td>bbc reporter people in cornwall make compariso...</td>\n",
              "      <td>en_UK</td>\n",
              "    </tr>\n",
              "    <tr>\n",
              "      <th>5</th>\n",
              "      <td>have a look here this should be useful</td>\n",
              "      <td>en_UK</td>\n",
              "    </tr>\n",
              "    <tr>\n",
              "      <th>6</th>\n",
              "      <td>hundreds die in cambodia stampede</td>\n",
              "      <td>en_UK</td>\n",
              "    </tr>\n",
              "    <tr>\n",
              "      <th>7</th>\n",
              "      <td>any luck chris let us know if you need any help</td>\n",
              "      <td>en_UK</td>\n",
              "    </tr>\n",
              "    <tr>\n",
              "      <th>8</th>\n",
              "      <td>o2 gets better connected on carbon</td>\n",
              "      <td>en_UK</td>\n",
              "    </tr>\n",
              "    <tr>\n",
              "      <th>9</th>\n",
              "      <td>coyle compiles referee dvd bolton manager owen...</td>\n",
              "      <td>en_UK</td>\n",
              "    </tr>\n",
              "  </tbody>\n",
              "</table>\n",
              "</div>"
            ],
            "text/plain": [
              "                                                text language\n",
              "0               winter storm taking aim at southeast    en_UK\n",
              "1  toure ready to show credentials yaya toure bel...    en_UK\n",
              "2      cnn fact check paying for that sputnik moment    en_UK\n",
              "3  the taliban in pakistan weve got a bigger prob...    en_UK\n",
              "4  bbc reporter people in cornwall make compariso...    en_UK\n",
              "5             have a look here this should be useful    en_UK\n",
              "6                  hundreds die in cambodia stampede    en_UK\n",
              "7    any luck chris let us know if you need any help    en_UK\n",
              "8                 o2 gets better connected on carbon    en_UK\n",
              "9  coyle compiles referee dvd bolton manager owen...    en_UK"
            ]
          },
          "metadata": {},
          "execution_count": 3
        }
      ]
    },
    {
      "cell_type": "code",
      "metadata": {
        "id": "T6q9rKPMliKt"
      },
      "source": [
        "lang_mapping = {\n",
        "'de_DE':'German',\n",
        "'en_UK':'English',\n",
        "'es_ES':'Spanish',\n",
        "'fr_FR':'French',\n",
        "'it_IT':'Italian',\n",
        "'nl_NL':'Dutch' \n",
        "}\n",
        "\n",
        "dataset = dataset.replace({\"language\": lang_mapping},inplace=False)"
      ],
      "execution_count": null,
      "outputs": []
    },
    {
      "cell_type": "code",
      "metadata": {
        "colab": {
          "base_uri": "https://localhost:8080/"
        },
        "id": "0-0ei0LDlqGa",
        "outputId": "22e83a89-53a0-4fc6-aa5c-591b342d36c4"
      },
      "source": [
        "dataset['language'].value_counts()"
      ],
      "execution_count": null,
      "outputs": [
        {
          "output_type": "execute_result",
          "data": {
            "text/plain": [
              "Italian    7695\n",
              "French     7583\n",
              "English    7524\n",
              "Spanish    2595\n",
              "German     1479\n",
              "Dutch      1430\n",
              "Name: language, dtype: int64"
            ]
          },
          "metadata": {},
          "execution_count": 5
        }
      ]
    },
    {
      "cell_type": "code",
      "metadata": {
        "colab": {
          "base_uri": "https://localhost:8080/"
        },
        "id": "yu6puH2alr75",
        "outputId": "2a29d927-21fd-4eb0-91a6-8e8e5ce22ff4"
      },
      "source": [
        "train_df_list = []\n",
        "test_df_list = []\n",
        "languages = dataset['language'].unique()\n",
        "for language in languages:\n",
        "  train_df_list.append(dataset[dataset['language'] == language][:1200])\n",
        "  test_df_list.append(dataset[dataset['language'] == language][1200:1400])\n",
        "\n",
        "train_df = pd.concat(train_df_list)\n",
        "test_df = pd.concat(test_df_list)\n",
        "\n",
        "print(\"Training dataset size: \",len(train_df))\n",
        "print(\"Testing dataset size: \",len(test_df))"
      ],
      "execution_count": null,
      "outputs": [
        {
          "output_type": "stream",
          "text": [
            "Training dataset size:  7200\n",
            "Testing dataset size:  1200\n"
          ],
          "name": "stdout"
        }
      ]
    },
    {
      "cell_type": "code",
      "metadata": {
        "colab": {
          "base_uri": "https://localhost:8080/"
        },
        "id": "KChowUZOluJl",
        "outputId": "645e9321-b739-4a0b-c5b2-72a2ceb77fae"
      },
      "source": [
        "train_df = train_df.sample(frac = 1)\n",
        "test_df = test_df.sample(frac = 1)\n",
        "\n",
        "train_df = train_df.reset_index(drop=True)\n",
        "test_df = test_df.reset_index(drop=True)\n",
        "\n",
        "print(train_df['language'].value_counts())\n",
        "print(test_df['language'].value_counts())"
      ],
      "execution_count": null,
      "outputs": [
        {
          "output_type": "stream",
          "text": [
            "German     1200\n",
            "Italian    1200\n",
            "French     1200\n",
            "Dutch      1200\n",
            "English    1200\n",
            "Spanish    1200\n",
            "Name: language, dtype: int64\n",
            "English    200\n",
            "French     200\n",
            "German     200\n",
            "Italian    200\n",
            "Dutch      200\n",
            "Spanish    200\n",
            "Name: language, dtype: int64\n"
          ],
          "name": "stdout"
        }
      ]
    },
    {
      "cell_type": "code",
      "metadata": {
        "colab": {
          "base_uri": "https://localhost:8080/",
          "height": 204
        },
        "id": "kupS7aphsvbO",
        "outputId": "23e092b3-da6d-48e2-e0da-149374216c9f"
      },
      "source": [
        "train_df.head()"
      ],
      "execution_count": null,
      "outputs": [
        {
          "output_type": "execute_result",
          "data": {
            "text/html": [
              "<div>\n",
              "<style scoped>\n",
              "    .dataframe tbody tr th:only-of-type {\n",
              "        vertical-align: middle;\n",
              "    }\n",
              "\n",
              "    .dataframe tbody tr th {\n",
              "        vertical-align: top;\n",
              "    }\n",
              "\n",
              "    .dataframe thead th {\n",
              "        text-align: right;\n",
              "    }\n",
              "</style>\n",
              "<table border=\"1\" class=\"dataframe\">\n",
              "  <thead>\n",
              "    <tr style=\"text-align: right;\">\n",
              "      <th></th>\n",
              "      <th>text</th>\n",
              "      <th>language</th>\n",
              "    </tr>\n",
              "  </thead>\n",
              "  <tbody>\n",
              "    <tr>\n",
              "      <th>0</th>\n",
              "      <td>esther vergeer wint australian open 147ste toe...</td>\n",
              "      <td>Dutch</td>\n",
              "    </tr>\n",
              "    <tr>\n",
              "      <th>1</th>\n",
              "      <td>avec legypte lesprit les etatsunis accusent li...</td>\n",
              "      <td>French</td>\n",
              "    </tr>\n",
              "    <tr>\n",
              "      <th>2</th>\n",
              "      <td>a me funziona correttamente forse risulta solo...</td>\n",
              "      <td>Italian</td>\n",
              "    </tr>\n",
              "    <tr>\n",
              "      <th>3</th>\n",
              "      <td>zarate vs marchisio chi sar linseguitore più a...</td>\n",
              "      <td>Italian</td>\n",
              "    </tr>\n",
              "    <tr>\n",
              "      <th>4</th>\n",
              "      <td>sorry is it working again for you now</td>\n",
              "      <td>English</td>\n",
              "    </tr>\n",
              "  </tbody>\n",
              "</table>\n",
              "</div>"
            ],
            "text/plain": [
              "                                                text language\n",
              "0  esther vergeer wint australian open 147ste toe...    Dutch\n",
              "1  avec legypte lesprit les etatsunis accusent li...   French\n",
              "2  a me funziona correttamente forse risulta solo...  Italian\n",
              "3  zarate vs marchisio chi sar linseguitore più a...  Italian\n",
              "4              sorry is it working again for you now  English"
            ]
          },
          "metadata": {},
          "execution_count": 8
        }
      ]
    },
    {
      "cell_type": "code",
      "metadata": {
        "colab": {
          "base_uri": "https://localhost:8080/",
          "height": 623
        },
        "id": "3nZE7E9m8d5m",
        "outputId": "8e3a71dd-952e-4483-8372-94da122b980b"
      },
      "source": [
        "plt.rcParams[\"figure.figsize\"] = (15,10)\n",
        "# Plotting character length frequencies\n",
        "def get_length_dict(values):\n",
        "  '''\n",
        "  Returns a dictionary denoting frequency of values in the iterable.\n",
        "  Input:\n",
        "  values - Iterable\n",
        "  Output:\n",
        "  length_dict: dictionary\n",
        "  '''\n",
        "  mean_length = 0\n",
        "  length_dict = {}\n",
        "  for v in values:\n",
        "      str_length = len(v)\n",
        "      if length_dict.get(str_length):\n",
        "          length_dict[str_length] += 1\n",
        "      else:\n",
        "          length_dict[str_length] = 1\n",
        "      mean_length += str_length \n",
        "  mean_length /= len(values)\n",
        "\n",
        "  print(\"Mean character length: {}\".format(mean_length))\n",
        "  length_dict = {k: v for k, v in sorted(length_dict.items(),reverse=True,key=lambda item: item[1])[:25]}\n",
        "  return length_dict\n",
        "\n",
        "length_dict = get_length_dict(train_df['text'].values)\n",
        "plt.bar(range(len(length_dict)), list(length_dict.values()), align='center')\n",
        "plt.xlabel('Length')\n",
        "plt.ylabel('Frequency')\n",
        "plt.xticks(range(len(length_dict)), list(length_dict.keys()))\n",
        "plt.show()"
      ],
      "execution_count": null,
      "outputs": [
        {
          "output_type": "stream",
          "text": [
            "Mean character length: 80.06486111111111\n"
          ],
          "name": "stdout"
        },
        {
          "output_type": "display_data",
          "data": {
            "image/png": "[encoded data removed]",
            "text/plain": [
              "<Figure size 1080x720 with 1 Axes>"
            ]
          },
          "metadata": {
            "needs_background": "light"
          }
        }
      ]
    },
    {
      "cell_type": "code",
      "metadata": {
        "id": "GejWVMP7-dIP"
      },
      "source": [
        "MAX_LEN = 90"
      ],
      "execution_count": null,
      "outputs": []
    },
    {
      "cell_type": "code",
      "metadata": {
        "colab": {
          "base_uri": "https://localhost:8080/"
        },
        "id": "wXXZPJmbrG-X",
        "outputId": "6bce1134-af93-4ea2-9127-87c5b7adb391"
      },
      "source": [
        "classes = list(train_df['language'].unique())\n",
        "class_mapping = {classes[i]:i for i in range(len(classes))}\n",
        "reverse_class_mapping = {i:class_ for class_,i in class_mapping.items()}\n",
        "\n",
        "print(class_mapping)\n",
        "print(reverse_class_mapping)"
      ],
      "execution_count": null,
      "outputs": [
        {
          "output_type": "stream",
          "text": [
            "{'Dutch': 0, 'French': 1, 'Italian': 2, 'English': 3, 'Spanish': 4, 'German': 5}\n",
            "{0: 'Dutch', 1: 'French', 2: 'Italian', 3: 'English', 4: 'Spanish', 5: 'German'}\n"
          ],
          "name": "stdout"
        }
      ]
    },
    {
      "cell_type": "code",
      "metadata": {
        "colab": {
          "base_uri": "https://localhost:8080/"
        },
        "id": "Uegr3quglzmK",
        "outputId": "c6839a4c-5386-4042-8714-2fb5cf66812d"
      },
      "source": [
        "def create_w2i_dict(df,column):\n",
        "  '''\n",
        "  Creates a word/character to index dictionary.\n",
        "  Input:\n",
        "  df- dataframe\n",
        "  column- column to be selected from the dataframe.\n",
        "  Output:\n",
        "  word_to_indeX_dict: Dictionary containing word to ids mapping.\n",
        "  '''\n",
        "  word_to_index_dict = {}\n",
        "  word_to_index_dict['<PAD>'] = 0\n",
        "  word_to_index_dict['<UNK>'] = 1\n",
        "  index = 1\n",
        "  for text in df[column].values:\n",
        "    for word in text:\n",
        "      if not word_to_index_dict.get(word):\n",
        "        word_to_index_dict[word] = index\n",
        "        index += 1\n",
        "  return word_to_index_dict\n",
        "\n",
        "word_to_index_dict = create_w2i_dict(train_df,'text')\n",
        "print(\"Total characters in vocab: \",len(word_to_index_dict.keys()))"
      ],
      "execution_count": null,
      "outputs": [
        {
          "output_type": "stream",
          "text": [
            "Total characters in vocab:  61\n"
          ],
          "name": "stdout"
        }
      ]
    },
    {
      "cell_type": "code",
      "metadata": {
        "id": "QVl5fDfgn4Yv"
      },
      "source": [
        "def string_to_tensor(string_inp,word_to_index_dict):\n",
        "  '''\n",
        "  Creates a tensor for an input string.\n",
        "  Input:\n",
        "  string_inp- String\n",
        "  word_to_index_dict: \n",
        "  Output:\n",
        "  string_tensor: Tensor containing representation of string with respect to word_to_index_dict \n",
        "  '''\n",
        "  string_ids = []\n",
        "  for char in string_inp:\n",
        "    if word_to_index_dict.get(char):\n",
        "      string_ids.append(word_to_index_dict[char])\n",
        "    else:\n",
        "      string_ids.append(word_to_index_dict['<UNK>'])\n",
        "  \n",
        "  if len(string_ids) > MAX_LEN:\n",
        "    string_ids = string_ids[:MAX_LEN]\n",
        "  else:\n",
        "    string_ids.extend([0]*(MAX_LEN-len(string_ids)))\n",
        "\n",
        "  string_tensor = torch.tensor(string_ids, device=device, dtype=torch.long)\n",
        "  return string_tensor"
      ],
      "execution_count": null,
      "outputs": []
    },
    {
      "cell_type": "code",
      "metadata": {
        "id": "mKw2LHpMweGi"
      },
      "source": [
        "# Defining the hyperparameters of the model\n",
        "EMBEDDING_SIZE = 300\n",
        "HIDDEN_SIZE = 200\n",
        "VOCABULARY_SIZE = len(word_to_index_dict.keys())\n",
        "TRAIN_BATCH_SIZE = 16\n",
        "VALID_BATCH_SIZE = 4\n",
        "K_FOLDS = 5\n",
        "EPOCHS = 40\n",
        "LEARNING_RATE = 1e-3\n",
        "CRITERION = nn.CrossEntropyLoss()"
      ],
      "execution_count": null,
      "outputs": []
    },
    {
      "cell_type": "code",
      "metadata": {
        "id": "N8nXjqXrqmzv"
      },
      "source": [
        "# Defining dataset class for our dataloader.\n",
        "class LIDDataset(torch.utils.data.Dataset):\n",
        "  def __init__(self,dataset,class_mapping,word_to_index_dict):\n",
        "    self.dataset = dataset  \n",
        "    self.class_mapping = class_mapping\n",
        "    self.w2i_dict = word_to_index_dict\n",
        "\n",
        "  def __getitem__(self,index):\n",
        "    x,y = self.dataset['text'][index],self.dataset['language'][index]\n",
        "    x = string_to_tensor(x,self.w2i_dict)\n",
        "    y = torch.tensor(self.class_mapping[y], device=device, dtype=torch.long)\n",
        "    return x,y\n",
        "  \n",
        "  def __len__(self):\n",
        "    return len(self.dataset)"
      ],
      "execution_count": null,
      "outputs": []
    },
    {
      "cell_type": "code",
      "metadata": {
        "id": "430u-auStJJS"
      },
      "source": [
        "# Defining the lstm model \n",
        "class LSTMBaseline(nn.Module):\n",
        "  def __init__(self,hidden_size,embedding_size,vocabulary_size):\n",
        "    super().__init__()\n",
        "    self.hidden_size = hidden_size \n",
        "\n",
        "    self.embedding_layer = nn.Embedding(vocabulary_size,embedding_size,padding_idx=0)\n",
        "    self.lstm_layer = nn.LSTM(embedding_size,hidden_size,batch_first = True,bidirectional=True)        \n",
        "    self.output_layer_1 = nn.Linear(hidden_size,100)\n",
        "    self.output_layer_2 = nn.Linear(100,6)\n",
        "\n",
        "  def forward(self,input_text):\n",
        "    embeddings = self.embedding_layer(input_text)\n",
        "    lstm_output,(hidden_state,cell_state) = self.lstm_layer(embeddings)\n",
        "    linear_output_1 = F.relu(self.output_layer_1(hidden_state[-1,:,:].squeeze(0)))\n",
        "    linear_output_2 = self.output_layer_2(linear_output_1)\n",
        "    return linear_output_2"
      ],
      "execution_count": null,
      "outputs": []
    },
    {
      "cell_type": "code",
      "metadata": {
        "id": "_r8xOS9yzG9Z"
      },
      "source": [
        "def calculate_accuracy(model_outputs,targets):\n",
        "  '''\n",
        "  Function to calculate accuracy given model outputs (logits) and targets\n",
        "  '''\n",
        "  softmax_output = F.softmax(model_outputs,dim=-1)\n",
        "  output_preds = torch.argmax(softmax_output,dim=-1)\n",
        "  correct_results_sum = (output_preds == targets).sum().float()\n",
        "  return correct_results_sum"
      ],
      "execution_count": null,
      "outputs": []
    },
    {
      "cell_type": "code",
      "metadata": {
        "id": "ICpoe__2wUGd"
      },
      "source": [
        "def train(criterion,epochs,dataset,k_folds,embedding_size,vocabulary_size,hidden_size,train_batch_size,valid_batch_size,learning_rate):\n",
        "  kfold = KFold(n_splits=k_folds, shuffle=True)\n",
        "  fold_values = 0\n",
        "  average_validation_loss = []\n",
        "  average_accuracy = []\n",
        "  metric_dict = {}\n",
        "  for fold, (train_ids, test_ids) in enumerate(kfold.split(dataset)):\n",
        "    print(f'FOLD {fold}')\n",
        "    print('--------------------------------')\n",
        "    metric_dict[fold] = {\n",
        "        'training_loss':[],\n",
        "        'training_accuracy':[],\n",
        "        'validation_accuracy':[],\n",
        "        'validation_loss':[]\n",
        "    }\n",
        "    train_subsampler = torch.utils.data.SubsetRandomSampler(train_ids)\n",
        "    test_subsampler = torch.utils.data.SubsetRandomSampler(test_ids)\n",
        "    \n",
        "    trainloader = torch.utils.data.DataLoader(\n",
        "                  dataset, \n",
        "                  batch_size=train_batch_size, sampler=train_subsampler,drop_last=True)\n",
        "    validloader = torch.utils.data.DataLoader(\n",
        "                  dataset,\n",
        "                  batch_size=valid_batch_size, sampler=test_subsampler,drop_last=True)\n",
        "    \n",
        "    model = LSTMBaseline(hidden_size,embedding_size,vocabulary_size)\n",
        "    model = model.to(device)\n",
        "    \n",
        "    optimizer = torch.optim.Adam(model.parameters(),lr=learning_rate)\n",
        "    \n",
        "    for epoch in range(epochs):\n",
        "        epoch_loss = 0.0\n",
        "        epoch_accuracy = 0\n",
        "        for i, data in enumerate(trainloader, 0):\n",
        "            model.train()\n",
        "            inputs, targets = data\n",
        "            inputs = inputs.to(device)\n",
        "            targets = targets.to(device)\n",
        "            optimizer.zero_grad()\n",
        "            outputs= model(inputs)\n",
        "            loss = criterion(outputs,targets)\n",
        "            epoch_loss += loss.item()\n",
        "            epoch_accuracy += calculate_accuracy(outputs,targets)\n",
        "\n",
        "            loss.backward()\n",
        "            optimizer.step()\n",
        "        \n",
        "\n",
        "        epoch_accuracy = (epoch_accuracy/(len(trainloader)*train_batch_size))*100\n",
        "        epoch_loss = (epoch_loss/(i+1))\n",
        "        metric_dict[fold]['training_loss'].append(epoch_loss)\n",
        "        metric_dict[fold]['training_accuracy'].append(epoch_accuracy)\n",
        "        if epoch % 10 == 0:\n",
        "            # epoch_loss = (epoch_loss/(i+1))\n",
        "            print(\"Epoch: {} Training Loss: {} Training Accuracy: {}\".format(epoch,epoch_loss,epoch_accuracy))\n",
        "\n",
        "        with torch.no_grad():\n",
        "            current_test_loss = 0\n",
        "            epoch_test_loss = 0\n",
        "            epoch_test_accuracy = 0\n",
        "            for i, data in enumerate(validloader, 0):\n",
        "                model.eval()\n",
        "                inputs, targets = data\n",
        "                inputs = inputs.to(device)\n",
        "                targets = targets.to(device)\n",
        "                outputs = model(inputs)\n",
        "\n",
        "                loss = criterion(outputs,targets)\n",
        "                epoch_test_loss += loss.item()\n",
        "                epoch_test_accuracy += calculate_accuracy(outputs,targets)\n",
        "        \n",
        "            epoch_test_accuracy = (epoch_test_accuracy / (len(validloader)*valid_batch_size))*100\n",
        "            epoch_test_loss = (epoch_test_loss/(i+1))\n",
        "            metric_dict[fold]['validation_loss'].append(epoch_test_loss)\n",
        "            metric_dict[fold]['validation_accuracy'].append(epoch_test_accuracy)\n",
        "            if epoch % 10 == 0:\n",
        "              print(\"Epoch: {} Validation Loss: {} Validation Accuracy: {}\".format(epoch,epoch_test_loss,epoch_test_accuracy))\n",
        "        \n",
        "    average_validation_loss.append(epoch_test_loss)\n",
        "    average_accuracy.append(epoch_test_accuracy)\n",
        "\n",
        "    torch.save(model,'/content/drive/MyDrive/LIDModels/char_lstm_baseline_{}.pkl'.format(fold))\n",
        "    print('--------------------------------')\n",
        "    \n",
        "  print(f'Average Validation Loss:{sum(average_validation_loss)/len(average_validation_loss)}')\n",
        "  print('Average accuracy: {}'.format(sum(average_accuracy)/len(average_accuracy)))\n",
        "  return metric_dict"
      ],
      "execution_count": null,
      "outputs": []
    },
    {
      "cell_type": "code",
      "metadata": {
        "colab": {
          "base_uri": "https://localhost:8080/"
        },
        "id": "5_BHzAY71JyR",
        "outputId": "c40387e7-486d-484f-c0ab-bf5b30b549f0"
      },
      "source": [
        "train_dataset = LIDDataset(train_df,class_mapping,word_to_index_dict)\n",
        "metrics = train(CRITERION,EPOCHS,train_dataset,K_FOLDS,EMBEDDING_SIZE,\n",
        "      VOCABULARY_SIZE,HIDDEN_SIZE,TRAIN_BATCH_SIZE,VALID_BATCH_SIZE,LEARNING_RATE)"
      ],
      "execution_count": null,
      "outputs": [
        {
          "output_type": "stream",
          "text": [
            "FOLD 0\n",
            "--------------------------------\n",
            "Epoch: 0 Training Loss: 0.966472698872288 Training Accuracy: 63.05555725097656\n",
            "Epoch: 0 Validation Loss: 0.3872918558306992 Validation Accuracy: 87.15277862548828\n",
            "Epoch: 10 Training Loss: 0.03287686443806403 Training Accuracy: 98.90625762939453\n",
            "Epoch: 10 Validation Loss: 0.18085901409486982 Validation Accuracy: 95.27777862548828\n",
            "Epoch: 20 Training Loss: 0.01916279142717738 Training Accuracy: 99.30555725097656\n",
            "Epoch: 20 Validation Loss: 0.1896229557229775 Validation Accuracy: 95.97222137451172\n",
            "Epoch: 30 Training Loss: 0.014729940161032573 Training Accuracy: 99.72222137451172\n",
            "Epoch: 30 Validation Loss: 0.19422330476497468 Validation Accuracy: 96.45833587646484\n",
            "--------------------------------\n",
            "FOLD 1\n",
            "--------------------------------\n",
            "Epoch: 0 Training Loss: 1.079949838668108 Training Accuracy: 58.00347137451172\n",
            "Epoch: 0 Validation Loss: 0.47871206366560526 Validation Accuracy: 83.47222137451172\n",
            "Epoch: 10 Training Loss: 0.028074120591392988 Training Accuracy: 99.0625\n",
            "Epoch: 10 Validation Loss: 0.1946063343828535 Validation Accuracy: 94.86111450195312\n",
            "Epoch: 20 Training Loss: 0.015555152743152374 Training Accuracy: 99.51388549804688\n",
            "Epoch: 20 Validation Loss: 0.24385254394477526 Validation Accuracy: 94.72222137451172\n",
            "Epoch: 30 Training Loss: 0.014426405403021174 Training Accuracy: 99.58333587646484\n",
            "Epoch: 30 Validation Loss: 0.1536493316145706 Validation Accuracy: 96.45833587646484\n",
            "--------------------------------\n",
            "FOLD 2\n",
            "--------------------------------\n",
            "Epoch: 0 Training Loss: 0.9314404719612664 Training Accuracy: 63.923614501953125\n",
            "Epoch: 0 Validation Loss: 0.3431457020704531 Validation Accuracy: 88.05555725097656\n",
            "Epoch: 10 Training Loss: 0.01563495872308825 Training Accuracy: 99.47917175292969\n",
            "Epoch: 10 Validation Loss: 0.10624181053832571 Validation Accuracy: 97.43055725097656\n",
            "Epoch: 20 Training Loss: 0.0008274418690499866 Training Accuracy: 100.0\n",
            "Epoch: 20 Validation Loss: 0.12174086034420828 Validation Accuracy: 96.94444274902344\n",
            "Epoch: 30 Training Loss: 1.7155267565390394e-05 Training Accuracy: 100.0\n",
            "Epoch: 30 Validation Loss: 0.12465486501678602 Validation Accuracy: 97.15277862548828\n",
            "--------------------------------\n",
            "FOLD 3\n",
            "--------------------------------\n",
            "Epoch: 0 Training Loss: 0.976493506733742 Training Accuracy: 62.5694465637207\n",
            "Epoch: 0 Validation Loss: 0.34330971252380144 Validation Accuracy: 88.61111450195312\n",
            "Epoch: 10 Training Loss: 0.035276569502548226 Training Accuracy: 98.75\n",
            "Epoch: 10 Validation Loss: 0.17667748562236246 Validation Accuracy: 94.58333587646484\n",
            "Epoch: 20 Training Loss: 0.0083230789815957 Training Accuracy: 99.72222137451172\n",
            "Epoch: 20 Validation Loss: 0.12938718882748307 Validation Accuracy: 96.875\n",
            "Epoch: 30 Training Loss: 0.018561330169768554 Training Accuracy: 99.39236450195312\n",
            "Epoch: 30 Validation Loss: 0.1565698217011371 Validation Accuracy: 96.04166412353516\n",
            "--------------------------------\n",
            "FOLD 4\n",
            "--------------------------------\n",
            "Epoch: 0 Training Loss: 0.9688573789472381 Training Accuracy: 62.1006965637207\n",
            "Epoch: 0 Validation Loss: 0.36639346881096974 Validation Accuracy: 87.43055725097656\n",
            "Epoch: 10 Training Loss: 0.010512644124287363 Training Accuracy: 99.61805725097656\n",
            "Epoch: 10 Validation Loss: 0.1706724960768669 Validation Accuracy: 96.04166412353516\n",
            "Epoch: 20 Training Loss: 9.532596487847261e-05 Training Accuracy: 100.0\n",
            "Epoch: 20 Validation Loss: 0.14363149531388178 Validation Accuracy: 96.73611450195312\n",
            "Epoch: 30 Training Loss: 1.117410800096271e-05 Training Accuracy: 100.0\n",
            "Epoch: 30 Validation Loss: 0.1530053492378182 Validation Accuracy: 96.73611450195312\n",
            "--------------------------------\n",
            "Average Validation Loss:0.17224940265902997\n",
            "Average accuracy: 96.52777862548828\n"
          ],
          "name": "stdout"
        }
      ]
    },
    {
      "cell_type": "code",
      "metadata": {
        "colab": {
          "base_uri": "https://localhost:8080/",
          "height": 288
        },
        "id": "BKLpxuZg3RqL",
        "outputId": "67aac5b5-8c1c-4706-b5d3-ab387987288a"
      },
      "source": [
        "plt.figure(figsize=(20, 4))\n",
        "\n",
        "for i in range(len(metrics.keys())):\n",
        "  plt.subplot(1,len(metrics.keys())+1,i+1)\n",
        "  plt.plot(metrics[i]['training_loss'])\n",
        "  plt.plot(metrics[i]['validation_loss'])\n",
        "  plt.title('Fold: {} model loss'.format(i))\n",
        "  plt.ylabel('loss')\n",
        "  plt.xlabel('epoch')\n",
        "  plt.legend(['train', 'val'], loc='upper left')\n",
        "\n",
        "plt.tight_layout()\n",
        "plt.show()"
      ],
      "execution_count": null,
      "outputs": [
        {
          "output_type": "display_data",
          "data": {
            "image/png": "[encoded data removed]",
            "text/plain": [
              "<Figure size 1440x288 with 5 Axes>"
            ]
          },
          "metadata": {
            "needs_background": "light"
          }
        }
      ]
    },
    {
      "cell_type": "code",
      "metadata": {
        "colab": {
          "base_uri": "https://localhost:8080/",
          "height": 288
        },
        "id": "bgQDBZwZ_nVU",
        "outputId": "54a89559-0c8b-4583-a173-5a83634dc493"
      },
      "source": [
        "plt.figure(figsize=(20, 4))\n",
        "\n",
        "for i in range(len(metrics.keys())):\n",
        "  plt.subplot(1,len(metrics.keys())+1,i+1)\n",
        "  plt.plot(metrics[i]['training_accuracy'])\n",
        "  plt.plot(metrics[i]['validation_accuracy'])\n",
        "  plt.title('Fold: {} model loss'.format(i))\n",
        "  plt.ylabel('loss')\n",
        "  plt.xlabel('epoch')\n",
        "  plt.legend(['train', 'val'], loc='lower right')\n",
        "\n",
        "plt.tight_layout()\n",
        "plt.show()"
      ],
      "execution_count": null,
      "outputs": [
        {
          "output_type": "display_data",
          "data": {
            "image/png": "[encoded data removed]",
            "text/plain": [
              "<Figure size 1440x288 with 5 Axes>"
            ]
          },
          "metadata": {
            "needs_background": "light"
          }
        }
      ]
    },
    {
      "cell_type": "code",
      "metadata": {
        "colab": {
          "base_uri": "https://localhost:8080/"
        },
        "id": "iKHzxGjc1KFU",
        "outputId": "fb76b988-ab78-402a-d150-720b3ed13b4f"
      },
      "source": [
        "def test(testdataset):\n",
        "  testloader = torch.utils.data.DataLoader(testdataset, batch_size=1,drop_last=True)\n",
        "  with torch.no_grad():\n",
        "    model = torch.load('/content/drive/MyDrive/LIDModels/char_lstm_baseline_2.pkl')      \n",
        "    epoch_test_accuracy = 0\n",
        "    for i, data in enumerate(testloader, 0):\n",
        "        model.eval()\n",
        "        inputs, targets = data\n",
        "        inputs = inputs.to(device)\n",
        "        targets = targets.to(device)\n",
        "        outputs = model(inputs)\n",
        "        epoch_test_accuracy += calculate_accuracy(outputs,targets)\n",
        "\n",
        "    epoch_test_accuracy = (epoch_test_accuracy/ len(testloader)) * 100\n",
        "    print(\"Accuracy: {} \".format(epoch_test_accuracy))\n",
        "\n",
        "test_dataset = LIDDataset(test_df,class_mapping,word_to_index_dict)\n",
        "test(test_dataset)"
      ],
      "execution_count": null,
      "outputs": [
        {
          "output_type": "stream",
          "text": [
            "Accuracy: 96.41667175292969 \n"
          ],
          "name": "stdout"
        }
      ]
    },
    {
      "cell_type": "code",
      "metadata": {
        "id": "hqQECPwyFUUZ"
      },
      "source": [
        "import pickle\n",
        "pickle.dump(word_to_index_dict,open('/content/drive/MyDrive/LIDModels/char_word_to_index_dict.pkl','wb'))\n",
        "pickle.dump(class_mapping,open('/content/drive/MyDrive/LIDModels/char_class_mapping.pkl','wb'))\n",
        "pickle.dump(reverse_class_mapping,open('/content/drive/MyDrive/LIDModels/char_reverse_class_mapping.pkl','wb'))"
      ],
      "execution_count": null,
      "outputs": []
    },
    {
      "cell_type": "code",
      "metadata": {
        "id": "7B59jeXX2QOZ"
      },
      "source": [
        "def test_one_sample(text):\n",
        "  word_to_index_dict = pickle.load(open('/content/drive/MyDrive/LIDModels/char_word_to_index_dict.pkl','rb'))\n",
        "  class_mapping = pickle.load(open('/content/drive/MyDrive/LIDModels/char_reverse_class_mapping.pkl','rb'))\n",
        "  char_tensor = string_to_tensor(text,word_to_index_dict) \n",
        "  with torch.no_grad():\n",
        "    model = torch.load('/content/drive/MyDrive/LIDModels/char_lstm_baseline_2.pkl')      \n",
        "    # model = torch.load('./lstm_baseline_2.pkl')      \n",
        "    model.eval()\n",
        "    outputs = model(char_tensor.unsqueeze(0))\n",
        "    softmax_output = F.softmax(outputs,dim=-1)\n",
        "    output_preds = torch.argmax(softmax_output,dim=-1)\n",
        "    # print(\"Given text: \",text)\n",
        "    # print(\"Predicted language: {}\".format(class_mapping[output_preds.item()]))\n",
        "    return class_mapping[output_preds.item()]"
      ],
      "execution_count": null,
      "outputs": []
    },
    {
      "cell_type": "code",
      "metadata": {
        "colab": {
          "base_uri": "https://localhost:8080/"
        },
        "id": "w3P3fZOzdcZw",
        "outputId": "05f2e2f0-1a4d-4ded-cd7c-15aae62ce6b3"
      },
      "source": [
        "lang_labels = sklearn.utils.multiclass.unique_labels(test_df['language'].values)\n",
        "print(lang_labels)"
      ],
      "execution_count": null,
      "outputs": [
        {
          "output_type": "stream",
          "text": [
            "['Dutch' 'English' 'French' 'German' 'Italian' 'Spanish']\n"
          ],
          "name": "stdout"
        }
      ]
    },
    {
      "cell_type": "code",
      "metadata": {
        "colab": {
          "base_uri": "https://localhost:8080/",
          "height": 606
        },
        "id": "NBLZEj9KcTys",
        "outputId": "5fbd57ee-919a-4a41-e8d7-8d835e802753"
      },
      "source": [
        "def get_preds(df):\n",
        "  dataset_preds = []\n",
        "  for index,row in df.iterrows():\n",
        "    dataset_preds.append(test_one_sample(row['text']))\n",
        "  return dataset_preds\n",
        "\n",
        "dataset_preds = get_preds(test_df)\n",
        "cm = confusion_matrix(test_df['language'].values, dataset_preds)\n",
        "cm_df = pd.DataFrame(cm,index = list(lang_labels), \n",
        "                     columns = list(lang_labels))\n",
        "\n",
        "plt.figure(figsize=(15,10))\n",
        "sns.heatmap(cm_df, annot=True,fmt='g')\n",
        "plt.ylabel('True label')\n",
        "plt.xlabel('Predicted label')\n",
        "plt.show()"
      ],
      "execution_count": null,
      "outputs": [
        {
          "output_type": "display_data",
          "data": {
            "image/png": "[encoded data removed]",
            "text/plain": [
              "<Figure size 1080x720 with 2 Axes>"
            ]
          },
          "metadata": {
            "needs_background": "light"
          }
        }
      ]
    },
    {
      "cell_type": "code",
      "metadata": {
        "id": "VIZb4y7DeKWr",
        "colab": {
          "base_uri": "https://localhost:8080/"
        },
        "outputId": "c63caee0-c23c-4b2e-d036-3b7f5f5f4675"
      },
      "source": [
        "clf_report = classification_report(test_df['language'].values, dataset_preds)\n",
        "print(clf_report)"
      ],
      "execution_count": null,
      "outputs": [
        {
          "output_type": "stream",
          "text": [
            "              precision    recall  f1-score   support\n",
            "\n",
            "       Dutch       0.95      0.98      0.96       200\n",
            "     English       0.95      0.96      0.96       200\n",
            "      French       0.99      0.94      0.96       200\n",
            "      German       0.98      0.96      0.97       200\n",
            "     Italian       0.93      0.97      0.95       200\n",
            "     Spanish       0.98      0.96      0.97       200\n",
            "\n",
            "    accuracy                           0.96      1200\n",
            "   macro avg       0.96      0.96      0.96      1200\n",
            "weighted avg       0.96      0.96      0.96      1200\n",
            "\n"
          ],
          "name": "stdout"
        }
      ]
    },
    {
      "cell_type": "code",
      "metadata": {
        "colab": {
          "base_uri": "https://localhost:8080/",
          "height": 35
        },
        "id": "sVAAPPX5_25T",
        "outputId": "d394b6cd-a750-4bb8-b984-0c3da5c42d3d"
      },
      "source": [
        "test_one_sample(\"what's up\")"
      ],
      "execution_count": null,
      "outputs": [
        {
          "output_type": "execute_result",
          "data": {
            "application/vnd.google.colaboratory.intrinsic+json": {
              "type": "string"
            },
            "text/plain": [
              "'English'"
            ]
          },
          "metadata": {},
          "execution_count": 31
        }
      ]
    },
    {
      "cell_type": "code",
      "metadata": {
        "id": "-5sqehQTQ8LC"
      },
      "source": [
        ""
      ],
      "execution_count": null,
      "outputs": []
    }
  ]
}